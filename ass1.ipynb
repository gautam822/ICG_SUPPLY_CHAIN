{
 "cells": [
  {
   "cell_type": "code",
   "execution_count": 153,
   "id": "799ce7cc-56ef-4188-88c1-ae88eaa57040",
   "metadata": {},
   "outputs": [],
   "source": [
    "import numpy as np\n",
    "import pandas as pd\n"
   ]
  },
  {
   "cell_type": "code",
   "execution_count": 155,
   "id": "a97d4812-b9a3-4a03-9ec1-a4fbc1a948e4",
   "metadata": {},
   "outputs": [],
   "source": [
    "df= pd.read_csv('Task 1.csv')"
   ]
  },
  {
   "cell_type": "code",
   "execution_count": 156,
   "id": "282be435-7583-4bcb-a3e2-af3e50471dcf",
   "metadata": {},
   "outputs": [
    {
     "data": {
      "text/html": [
       "<div>\n",
       "<style scoped>\n",
       "    .dataframe tbody tr th:only-of-type {\n",
       "        vertical-align: middle;\n",
       "    }\n",
       "\n",
       "    .dataframe tbody tr th {\n",
       "        vertical-align: top;\n",
       "    }\n",
       "\n",
       "    .dataframe thead th {\n",
       "        text-align: right;\n",
       "    }\n",
       "</style>\n",
       "<table border=\"1\" class=\"dataframe\">\n",
       "  <thead>\n",
       "    <tr style=\"text-align: right;\">\n",
       "      <th></th>\n",
       "      <th>product_id</th>\n",
       "      <th>factory_id</th>\n",
       "      <th>warehouse_id</th>\n",
       "      <th>shipping_cost</th>\n",
       "      <th>weight</th>\n",
       "      <th>manufacturing_cost</th>\n",
       "      <th>delay_risk</th>\n",
       "      <th>units_shipped</th>\n",
       "      <th>units_returned</th>\n",
       "      <th>avg_rating</th>\n",
       "      <th>units_sold</th>\n",
       "    </tr>\n",
       "  </thead>\n",
       "  <tbody>\n",
       "    <tr>\n",
       "      <th>0</th>\n",
       "      <td>P19</td>\n",
       "      <td>F5</td>\n",
       "      <td>W4</td>\n",
       "      <td>63.25</td>\n",
       "      <td>9.23</td>\n",
       "      <td>89.11</td>\n",
       "      <td>0.28</td>\n",
       "      <td>494</td>\n",
       "      <td>43</td>\n",
       "      <td>2.00</td>\n",
       "      <td>465</td>\n",
       "    </tr>\n",
       "    <tr>\n",
       "      <th>1</th>\n",
       "      <td>P8</td>\n",
       "      <td>F5</td>\n",
       "      <td>W1</td>\n",
       "      <td>72.29</td>\n",
       "      <td>7.22</td>\n",
       "      <td>93.99</td>\n",
       "      <td>0.08</td>\n",
       "      <td>805</td>\n",
       "      <td>4</td>\n",
       "      <td>2.29</td>\n",
       "      <td>802</td>\n",
       "    </tr>\n",
       "    <tr>\n",
       "      <th>2</th>\n",
       "      <td>P6</td>\n",
       "      <td>F2</td>\n",
       "      <td>W8</td>\n",
       "      <td>NaN</td>\n",
       "      <td>6.77</td>\n",
       "      <td>72.48</td>\n",
       "      <td>0.06</td>\n",
       "      <td>197</td>\n",
       "      <td>38</td>\n",
       "      <td>1.86</td>\n",
       "      <td>182</td>\n",
       "    </tr>\n",
       "    <tr>\n",
       "      <th>3</th>\n",
       "      <td>P6</td>\n",
       "      <td>F1</td>\n",
       "      <td>W7</td>\n",
       "      <td>NaN</td>\n",
       "      <td>10.73</td>\n",
       "      <td>103.92</td>\n",
       "      <td>0.54</td>\n",
       "      <td>714</td>\n",
       "      <td>10</td>\n",
       "      <td>1.11</td>\n",
       "      <td>695</td>\n",
       "    </tr>\n",
       "    <tr>\n",
       "      <th>4</th>\n",
       "      <td>P9</td>\n",
       "      <td>F3</td>\n",
       "      <td>W3</td>\n",
       "      <td>49.56</td>\n",
       "      <td>14.39</td>\n",
       "      <td>83.86</td>\n",
       "      <td>0.49</td>\n",
       "      <td>961</td>\n",
       "      <td>18</td>\n",
       "      <td>2.45</td>\n",
       "      <td>928</td>\n",
       "    </tr>\n",
       "  </tbody>\n",
       "</table>\n",
       "</div>"
      ],
      "text/plain": [
       "  product_id factory_id warehouse_id  shipping_cost  weight  \\\n",
       "0        P19         F5           W4          63.25    9.23   \n",
       "1         P8         F5           W1          72.29    7.22   \n",
       "2         P6         F2           W8            NaN    6.77   \n",
       "3         P6         F1           W7            NaN   10.73   \n",
       "4         P9         F3           W3          49.56   14.39   \n",
       "\n",
       "   manufacturing_cost  delay_risk  units_shipped  units_returned  avg_rating  \\\n",
       "0               89.11        0.28            494              43        2.00   \n",
       "1               93.99        0.08            805               4        2.29   \n",
       "2               72.48        0.06            197              38        1.86   \n",
       "3              103.92        0.54            714              10        1.11   \n",
       "4               83.86        0.49            961              18        2.45   \n",
       "\n",
       "   units_sold  \n",
       "0         465  \n",
       "1         802  \n",
       "2         182  \n",
       "3         695  \n",
       "4         928  "
      ]
     },
     "execution_count": 156,
     "metadata": {},
     "output_type": "execute_result"
    }
   ],
   "source": [
    "df.head()"
   ]
  },
  {
   "cell_type": "code",
   "execution_count": 157,
   "id": "8326ca9f-d9c9-49bf-9d56-1d58e3fb454a",
   "metadata": {},
   "outputs": [
    {
     "data": {
      "text/plain": [
       "(1000000, 11)"
      ]
     },
     "execution_count": 157,
     "metadata": {},
     "output_type": "execute_result"
    }
   ],
   "source": [
    "df.shape"
   ]
  },
  {
   "cell_type": "code",
   "execution_count": 158,
   "id": "b52c06e1-0a0d-4ff6-9149-dc313acfa901",
   "metadata": {},
   "outputs": [
    {
     "name": "stdout",
     "output_type": "stream",
     "text": [
      "<class 'pandas.core.frame.DataFrame'>\n",
      "RangeIndex: 1000000 entries, 0 to 999999\n",
      "Data columns (total 11 columns):\n",
      " #   Column              Non-Null Count    Dtype  \n",
      "---  ------              --------------    -----  \n",
      " 0   product_id          1000000 non-null  object \n",
      " 1   factory_id          1000000 non-null  object \n",
      " 2   warehouse_id        1000000 non-null  object \n",
      " 3   shipping_cost       990000 non-null   float64\n",
      " 4   weight              1000000 non-null  float64\n",
      " 5   manufacturing_cost  1000000 non-null  float64\n",
      " 6   delay_risk          1000000 non-null  float64\n",
      " 7   units_shipped       1000000 non-null  int64  \n",
      " 8   units_returned      1000000 non-null  int64  \n",
      " 9   avg_rating          990000 non-null   float64\n",
      " 10  units_sold          1000000 non-null  int64  \n",
      "dtypes: float64(5), int64(3), object(3)\n",
      "memory usage: 83.9+ MB\n"
     ]
    }
   ],
   "source": [
    "df.info()"
   ]
  },
  {
   "cell_type": "markdown",
   "id": "d1081207-babb-4fe5-9b0a-af48b607ee9b",
   "metadata": {},
   "source": [
    "### IN THE PRE PROCESSING I HAVE REMOVED MISSING VALUES AND SCALED THE VALUES"
   ]
  },
  {
   "cell_type": "code",
   "execution_count": 164,
   "id": "112e2ee4-01bd-4a11-9369-8c5c1bc04e73",
   "metadata": {},
   "outputs": [],
   "source": [
    "df.dropna(inplace=True)"
   ]
  },
  {
   "cell_type": "code",
   "execution_count": 165,
   "id": "d401acf3-80e1-4e22-86d5-329c6a8ecd50",
   "metadata": {},
   "outputs": [
    {
     "data": {
      "text/plain": [
       "product_id            0\n",
       "factory_id            0\n",
       "warehouse_id          0\n",
       "shipping_cost         0\n",
       "weight                0\n",
       "manufacturing_cost    0\n",
       "delay_risk            0\n",
       "units_shipped         0\n",
       "units_returned        0\n",
       "avg_rating            0\n",
       "units_sold            0\n",
       "dtype: int64"
      ]
     },
     "execution_count": 165,
     "metadata": {},
     "output_type": "execute_result"
    }
   ],
   "source": [
    "df.isnull().sum()"
   ]
  },
  {
   "cell_type": "code",
   "execution_count": 168,
   "id": "23144f33-efbf-4aa2-9667-160cae24a80b",
   "metadata": {},
   "outputs": [],
   "source": [
    "import matplotlib.pyplot as plt\n",
    "import tensorflow as tf\n",
    "from tensorflow.keras.models import Sequential\n",
    "from tensorflow.keras.layers import Dense\n",
    "from sklearn.metrics import mean_squared_error\n",
    "from sklearn.model_selection import train_test_split\n",
    "from sklearn.metrics import accuracy_score\n",
    "from sklearn.preprocessing import StandardScaler\n",
    "scaler=StandardScaler()"
   ]
  },
  {
   "cell_type": "code",
   "execution_count": 188,
   "id": "4f608eb3-8d27-4c89-915d-0d59f3855c89",
   "metadata": {},
   "outputs": [],
   "source": [
    "X= df.drop(columns=['product_id','factory_id','warehouse_id'])\n",
    "Y= df[\"units_sold\"]\n",
    "X_train, X_test, y_train, y_test = train_test_split(X, Y, test_size=0.5)\n",
    "X_train= scaler.fit_transform(X_train)\n",
    "X_test= scaler.transform(X_test)\n"
   ]
  },
  {
   "cell_type": "code",
   "execution_count": 189,
   "id": "76230475-9088-4daa-a097-8fb486427c6e",
   "metadata": {},
   "outputs": [
    {
     "data": {
      "text/plain": [
       "(490048, 8)"
      ]
     },
     "execution_count": 189,
     "metadata": {},
     "output_type": "execute_result"
    }
   ],
   "source": [
    "X_train.shape"
   ]
  },
  {
   "cell_type": "markdown",
   "id": "64208619-b872-4653-a3f5-308c6c6d26d3",
   "metadata": {},
   "source": [
    "### AFTER SCALING THE DATASET IS CONVERTED TO NUMPY ARRAY SO WE HAVE TO CONVERT IT TO DATA FRAME."
   ]
  },
  {
   "cell_type": "markdown",
   "id": "6c2eca9e-890b-4150-83b7-dda7c1ff8435",
   "metadata": {},
   "source": [
    "X_train=pd.DataFrame(X_train)\n",
    "X_test= pd.DataFrame(X_test)\n",
    "model = Sequential([\n",
    "    Dense(64, activation='relu', input_shape=(X.shape[1],)),\n",
    "    Dense(32, activation='relu'),\n",
    "    Dense(1)  \n",
    "])"
   ]
  },
  {
   "cell_type": "markdown",
   "id": "893e74e3-3fd3-4004-b645-35a29d37cf71",
   "metadata": {},
   "source": [
    "### I have used xgboost also but the mean was 20 which was not bad coz the units sold is between 200-1000 and there was no change in the code otherthan the algorithm which was neural network now."
   ]
  },
  {
   "cell_type": "code",
   "execution_count": 210,
   "id": "e22c39eb-ebe5-4d91-907f-8d8e2a37322c",
   "metadata": {},
   "outputs": [
    {
     "name": "stdout",
     "output_type": "stream",
     "text": [
      "\u001b[1m27566/27566\u001b[0m \u001b[32m━━━━━━━━━━━━━━━━━━━━\u001b[0m\u001b[37m\u001b[0m \u001b[1m102s\u001b[0m 4ms/step - accuracy: 6.9620e-07 - loss: 0.1810 - val_accuracy: 0.0000e+00 - val_loss: 0.0010\n",
      "\u001b[1m15315/15315\u001b[0m \u001b[32m━━━━━━━━━━━━━━━━━━━━\u001b[0m\u001b[37m\u001b[0m \u001b[1m29s\u001b[0m 2ms/step\n",
      "Mean Squared Error: 0.002030552487726753\n",
      "Mean Absolute Error: 0.017245111222310927\n",
      "R² Score: 0.9999999403953552\n"
     ]
    }
   ],
   "source": [
    "model.compile(optimizer='adam',\n",
    "              loss='mean_squared_error',\n",
    "              metrics=['accuracy'])\n",
    "model.fit(X_train, y_train,epochs=1, batch_size=16, validation_split=0.1)\n",
    "y_pred = model.predict(X_test)\n",
    "from sklearn.metrics import mean_absolute_error, r2_score\n",
    "mse = mean_squared_error(y_test, y_pred)\n",
    "\n",
    "mae = mean_absolute_error(y_test, y_pred)\n",
    "r2 = r2_score(y_test, y_pred)\n",
    "\n",
    "print(\"Mean Squared Error:\", mse)\n",
    "print(\"Mean Absolute Error:\", mae)\n",
    "print(\"R² Score:\", r2)\n"
   ]
  },
  {
   "cell_type": "code",
   "execution_count": null,
   "id": "d81085cc-bd0b-4bfe-8522-71170a0a515e",
   "metadata": {},
   "outputs": [],
   "source": []
  },
  {
   "cell_type": "code",
   "execution_count": null,
   "id": "15b617f4-beac-4e50-a4e7-6d03c3d75458",
   "metadata": {},
   "outputs": [],
   "source": []
  }
 ],
 "metadata": {
  "kernelspec": {
   "display_name": "Python 3 (ipykernel)",
   "language": "python",
   "name": "python3"
  },
  "language_info": {
   "codemirror_mode": {
    "name": "ipython",
    "version": 3
   },
   "file_extension": ".py",
   "mimetype": "text/x-python",
   "name": "python",
   "nbconvert_exporter": "python",
   "pygments_lexer": "ipython3",
   "version": "3.12.7"
  }
 },
 "nbformat": 4,
 "nbformat_minor": 5
}
