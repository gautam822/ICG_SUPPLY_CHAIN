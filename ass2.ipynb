{
 "cells": [
  {
   "cell_type": "code",
   "execution_count": 1,
   "id": "4c35e449-087a-421e-a1f9-83cdad90a46e",
   "metadata": {},
   "outputs": [],
   "source": [
    "import numpy as np\n",
    "import pandas as pd\n",
    "from sklearn.preprocessing import StandardScaler\n",
    "from sklearn.cluster import KMeans\n",
    "import matplotlib.pyplot as plt"
   ]
  },
  {
   "cell_type": "code",
   "execution_count": 3,
   "id": "66a46c18-db42-48dc-bfa0-11930a8b7aff",
   "metadata": {},
   "outputs": [],
   "source": [
    "df= pd.read_csv('Task 2.csv')"
   ]
  },
  {
   "cell_type": "code",
   "execution_count": 5,
   "id": "45f519f9-e06f-47af-8269-56f468a34ada",
   "metadata": {},
   "outputs": [
    {
     "data": {
      "text/html": [
       "<div>\n",
       "<style scoped>\n",
       "    .dataframe tbody tr th:only-of-type {\n",
       "        vertical-align: middle;\n",
       "    }\n",
       "\n",
       "    .dataframe tbody tr th {\n",
       "        vertical-align: top;\n",
       "    }\n",
       "\n",
       "    .dataframe thead th {\n",
       "        text-align: right;\n",
       "    }\n",
       "</style>\n",
       "<table border=\"1\" class=\"dataframe\">\n",
       "  <thead>\n",
       "    <tr style=\"text-align: right;\">\n",
       "      <th></th>\n",
       "      <th>product_A_qty</th>\n",
       "      <th>product_B_qty</th>\n",
       "      <th>product_C_qty</th>\n",
       "      <th>product_D_qty</th>\n",
       "      <th>product_E_qty</th>\n",
       "      <th>product_F_qty</th>\n",
       "      <th>product_G_qty</th>\n",
       "      <th>product_H_qty</th>\n",
       "      <th>product_I_qty</th>\n",
       "      <th>product_J_qty</th>\n",
       "      <th>warehouse_id</th>\n",
       "    </tr>\n",
       "  </thead>\n",
       "  <tbody>\n",
       "    <tr>\n",
       "      <th>0</th>\n",
       "      <td>10.0</td>\n",
       "      <td>94.0</td>\n",
       "      <td>46.0</td>\n",
       "      <td>82.0</td>\n",
       "      <td>286.0</td>\n",
       "      <td>20.0</td>\n",
       "      <td>137.0</td>\n",
       "      <td>76.0</td>\n",
       "      <td>273.0</td>\n",
       "      <td>181.0</td>\n",
       "      <td>W1</td>\n",
       "    </tr>\n",
       "    <tr>\n",
       "      <th>1</th>\n",
       "      <td>131.0</td>\n",
       "      <td>209.0</td>\n",
       "      <td>268.0</td>\n",
       "      <td>285.0</td>\n",
       "      <td>172.0</td>\n",
       "      <td>211.0</td>\n",
       "      <td>188.0</td>\n",
       "      <td>157.0</td>\n",
       "      <td>203.0</td>\n",
       "      <td>263.0</td>\n",
       "      <td>W2</td>\n",
       "    </tr>\n",
       "    <tr>\n",
       "      <th>2</th>\n",
       "      <td>380.0</td>\n",
       "      <td>93.0</td>\n",
       "      <td>400.0</td>\n",
       "      <td>276.0</td>\n",
       "      <td>226.0</td>\n",
       "      <td>336.0</td>\n",
       "      <td>274.0</td>\n",
       "      <td>116.0</td>\n",
       "      <td>203.0</td>\n",
       "      <td>239.0</td>\n",
       "      <td>W3</td>\n",
       "    </tr>\n",
       "    <tr>\n",
       "      <th>3</th>\n",
       "      <td>1.0</td>\n",
       "      <td>139.0</td>\n",
       "      <td>76.0</td>\n",
       "      <td>330.0</td>\n",
       "      <td>107.0</td>\n",
       "      <td>159.0</td>\n",
       "      <td>24.0</td>\n",
       "      <td>186.0</td>\n",
       "      <td>280.0</td>\n",
       "      <td>77.0</td>\n",
       "      <td>W4</td>\n",
       "    </tr>\n",
       "    <tr>\n",
       "      <th>4</th>\n",
       "      <td>253.0</td>\n",
       "      <td>78.0</td>\n",
       "      <td>161.0</td>\n",
       "      <td>338.0</td>\n",
       "      <td>258.0</td>\n",
       "      <td>201.0</td>\n",
       "      <td>131.0</td>\n",
       "      <td>210.0</td>\n",
       "      <td>351.0</td>\n",
       "      <td>177.0</td>\n",
       "      <td>W5</td>\n",
       "    </tr>\n",
       "  </tbody>\n",
       "</table>\n",
       "</div>"
      ],
      "text/plain": [
       "   product_A_qty  product_B_qty  product_C_qty  product_D_qty  product_E_qty  \\\n",
       "0           10.0           94.0           46.0           82.0          286.0   \n",
       "1          131.0          209.0          268.0          285.0          172.0   \n",
       "2          380.0           93.0          400.0          276.0          226.0   \n",
       "3            1.0          139.0           76.0          330.0          107.0   \n",
       "4          253.0           78.0          161.0          338.0          258.0   \n",
       "\n",
       "   product_F_qty  product_G_qty  product_H_qty  product_I_qty  product_J_qty  \\\n",
       "0           20.0          137.0           76.0          273.0          181.0   \n",
       "1          211.0          188.0          157.0          203.0          263.0   \n",
       "2          336.0          274.0          116.0          203.0          239.0   \n",
       "3          159.0           24.0          186.0          280.0           77.0   \n",
       "4          201.0          131.0          210.0          351.0          177.0   \n",
       "\n",
       "  warehouse_id  \n",
       "0           W1  \n",
       "1           W2  \n",
       "2           W3  \n",
       "3           W4  \n",
       "4           W5  "
      ]
     },
     "execution_count": 5,
     "metadata": {},
     "output_type": "execute_result"
    }
   ],
   "source": [
    "df.head()"
   ]
  },
  {
   "cell_type": "code",
   "execution_count": 42,
   "id": "7ae1e0ec-0158-4eb8-951b-0ec8f83783f1",
   "metadata": {},
   "outputs": [
    {
     "data": {
      "text/plain": [
       "(10000, 12)"
      ]
     },
     "execution_count": 42,
     "metadata": {},
     "output_type": "execute_result"
    }
   ],
   "source": [
    "df.shape"
   ]
  },
  {
   "cell_type": "code",
   "execution_count": 7,
   "id": "893c4b50-3eeb-492d-948c-27ee4da4127a",
   "metadata": {},
   "outputs": [
    {
     "data": {
      "text/plain": [
       "product_A_qty      0\n",
       "product_B_qty      0\n",
       "product_C_qty    100\n",
       "product_D_qty      0\n",
       "product_E_qty      0\n",
       "product_F_qty      0\n",
       "product_G_qty      0\n",
       "product_H_qty      0\n",
       "product_I_qty      0\n",
       "product_J_qty      0\n",
       "warehouse_id       0\n",
       "dtype: int64"
      ]
     },
     "execution_count": 7,
     "metadata": {},
     "output_type": "execute_result"
    }
   ],
   "source": [
    "df.isnull().sum()"
   ]
  },
  {
   "cell_type": "code",
   "execution_count": 9,
   "id": "60cbf9df-b877-440b-95f9-a96e814b7a57",
   "metadata": {},
   "outputs": [
    {
     "name": "stderr",
     "output_type": "stream",
     "text": [
      "C:\\Users\\Dell\\AppData\\Local\\Temp\\ipykernel_34024\\623551856.py:1: FutureWarning: A value is trying to be set on a copy of a DataFrame or Series through chained assignment using an inplace method.\n",
      "The behavior will change in pandas 3.0. This inplace method will never work because the intermediate object on which we are setting values always behaves as a copy.\n",
      "\n",
      "For example, when doing 'df[col].method(value, inplace=True)', try using 'df.method({col: value}, inplace=True)' or df[col] = df[col].method(value) instead, to perform the operation inplace on the original object.\n",
      "\n",
      "\n",
      "  df['product_C_qty'].fillna(df['product_C_qty'].mean(), inplace=True)\n"
     ]
    }
   ],
   "source": [
    "df['product_C_qty'].fillna(df['product_C_qty'].mean(), inplace=True)\n"
   ]
  },
  {
   "cell_type": "code",
   "execution_count": 11,
   "id": "a5dbc50b-f773-49ed-9201-f06db05c064c",
   "metadata": {},
   "outputs": [],
   "source": [
    "warehouse_ids = df['warehouse_id']\n",
    "df_features = df.drop(columns=['warehouse_id'])\n"
   ]
  },
  {
   "cell_type": "code",
   "execution_count": 13,
   "id": "ccc02879-612b-4bbe-abfa-e5eeefbe702f",
   "metadata": {},
   "outputs": [],
   "source": [
    "scaler = StandardScaler()\n",
    "scaled_data = scaler.fit_transform(df_features)\n"
   ]
  },
  {
   "cell_type": "code",
   "execution_count": 92,
   "id": "d7909bd5-e812-432c-969f-ed2e6e11d4c9",
   "metadata": {},
   "outputs": [],
   "source": [
    "inertia = []\n",
    "k_range = range(1, 25)\n",
    "for k in k_range:\n",
    "    kmeans = KMeans(n_clusters=k,random_state=42, n_init=100)\n",
    "    kmeans.fit(scaled_data)\n",
    "    inertia.append(kmeans.inertia_)"
   ]
  },
  {
   "cell_type": "code",
   "execution_count": 93,
   "id": "6c38b95b-8903-4d16-b4ec-7de1513dca7d",
   "metadata": {},
   "outputs": [
    {
     "data": {
      "image/png": "[encoded data removed]",
      "text/plain": [
       "<Figure size 800x500 with 1 Axes>"
      ]
     },
     "metadata": {},
     "output_type": "display_data"
    }
   ],
   "source": [
    "plt.figure(figsize=(8, 5))\n",
    "plt.plot(k_range, inertia, marker='o')\n",
    "plt.xlabel('Number of Clusters (k)')\n",
    "plt.ylabel('Inertia')\n",
    "plt.title('Elbow Method')\n",
    "plt.grid(True)\n",
    "plt.show()"
   ]
  },
  {
   "cell_type": "code",
   "execution_count": 94,
   "id": "e706d9d5-fb9f-455f-8795-202f91294fc5",
   "metadata": {},
   "outputs": [],
   "source": [
    "optimal_k = 5\n",
    "kmeans = KMeans(n_clusters=optimal_k, random_state=42, n_init=10)\n",
    "clusters = kmeans.fit_predict(scaled_data)\n",
    "\n",
    "\n",
    "df['Cluster'] = clusters\n",
    "clusters=pd.DataFrame(clusters)"
   ]
  },
  {
   "cell_type": "code",
   "execution_count": 95,
   "id": "d1e22193-e3f0-41e0-88ed-238a2d0e56b0",
   "metadata": {},
   "outputs": [
    {
     "data": {
      "text/html": [
       "<div>\n",
       "<style scoped>\n",
       "    .dataframe tbody tr th:only-of-type {\n",
       "        vertical-align: middle;\n",
       "    }\n",
       "\n",
       "    .dataframe tbody tr th {\n",
       "        vertical-align: top;\n",
       "    }\n",
       "\n",
       "    .dataframe thead th {\n",
       "        text-align: right;\n",
       "    }\n",
       "</style>\n",
       "<table border=\"1\" class=\"dataframe\">\n",
       "  <thead>\n",
       "    <tr style=\"text-align: right;\">\n",
       "      <th></th>\n",
       "      <th>0</th>\n",
       "    </tr>\n",
       "  </thead>\n",
       "  <tbody>\n",
       "    <tr>\n",
       "      <th>0</th>\n",
       "      <td>1</td>\n",
       "    </tr>\n",
       "    <tr>\n",
       "      <th>1</th>\n",
       "      <td>0</td>\n",
       "    </tr>\n",
       "    <tr>\n",
       "      <th>2</th>\n",
       "      <td>0</td>\n",
       "    </tr>\n",
       "    <tr>\n",
       "      <th>3</th>\n",
       "      <td>1</td>\n",
       "    </tr>\n",
       "    <tr>\n",
       "      <th>4</th>\n",
       "      <td>1</td>\n",
       "    </tr>\n",
       "    <tr>\n",
       "      <th>...</th>\n",
       "      <td>...</td>\n",
       "    </tr>\n",
       "    <tr>\n",
       "      <th>9995</th>\n",
       "      <td>4</td>\n",
       "    </tr>\n",
       "    <tr>\n",
       "      <th>9996</th>\n",
       "      <td>3</td>\n",
       "    </tr>\n",
       "    <tr>\n",
       "      <th>9997</th>\n",
       "      <td>0</td>\n",
       "    </tr>\n",
       "    <tr>\n",
       "      <th>9998</th>\n",
       "      <td>4</td>\n",
       "    </tr>\n",
       "    <tr>\n",
       "      <th>9999</th>\n",
       "      <td>2</td>\n",
       "    </tr>\n",
       "  </tbody>\n",
       "</table>\n",
       "<p>10000 rows × 1 columns</p>\n",
       "</div>"
      ],
      "text/plain": [
       "      0\n",
       "0     1\n",
       "1     0\n",
       "2     0\n",
       "3     1\n",
       "4     1\n",
       "...  ..\n",
       "9995  4\n",
       "9996  3\n",
       "9997  0\n",
       "9998  4\n",
       "9999  2\n",
       "\n",
       "[10000 rows x 1 columns]"
      ]
     },
     "execution_count": 95,
     "metadata": {},
     "output_type": "execute_result"
    }
   ],
   "source": [
    "clusters\n"
   ]
  },
  {
   "cell_type": "code",
   "execution_count": 96,
   "id": "d140fcb4-61d5-4393-b826-ac2df7b9cb6d",
   "metadata": {},
   "outputs": [
    {
     "name": "stdout",
     "output_type": "stream",
     "text": [
      "Silhouette Score: 0.06048547189817968\n"
     ]
    }
   ],
   "source": [
    "from sklearn.metrics import silhouette_score\n",
    "labels = kmeans.fit_predict(scaled_data)\n",
    "score = silhouette_score(scaled_data, labels)\n",
    "print(\"Silhouette Score:\", score)"
   ]
  },
  {
   "cell_type": "code",
   "execution_count": null,
   "id": "ab0273a5-7cfc-49c7-896b-3be678be2456",
   "metadata": {},
   "outputs": [],
   "source": []
  }
 ],
 "metadata": {
  "kernelspec": {
   "display_name": "Python 3 (ipykernel)",
   "language": "python",
   "name": "python3"
  },
  "language_info": {
   "codemirror_mode": {
    "name": "ipython",
    "version": 3
   },
   "file_extension": ".py",
   "mimetype": "text/x-python",
   "name": "python",
   "nbconvert_exporter": "python",
   "pygments_lexer": "ipython3",
   "version": "3.12.7"
  }
 },
 "nbformat": 4,
 "nbformat_minor": 5
}
